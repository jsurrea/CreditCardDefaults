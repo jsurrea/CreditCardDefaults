{
  "cells": [
    {
      "cell_type": "markdown",
      "metadata": {},
      "source": [
        "### Librerías"
      ]
    },
    {
      "cell_type": "code",
      "execution_count": 55,
      "metadata": {},
      "outputs": [],
      "source": [
        "import os\n",
        "import time\n",
        "import numpy as np\n",
        "import matplotlib.pyplot as plt\n",
        "import pandas as pd\n",
        "from sklearn import ensemble\n",
        "from sklearn.metrics import accuracy_score, classification_report, confusion_matrix, ConfusionMatrixDisplay\n",
        "from sklearn.model_selection import train_test_split, GridSearchCV\n",
        "from sklearn.decomposition import PCA\n",
        "from sklearn.preprocessing import StandardScaler, LabelEncoder\n",
        "from tensorflow.keras.models import Sequential\n",
        "from tensorflow.keras.layers import Dense, Flatten, Dropout\n",
        "from tensorflow.keras.optimizers import Adam\n",
        "from tensorflow.keras.callbacks import ModelCheckpoint, EarlyStopping"
      ]
    },
    {
      "cell_type": "markdown",
      "metadata": {},
      "source": [
        "### Lectura de datos"
      ]
    },
    {
      "cell_type": "code",
      "execution_count": 56,
      "metadata": {},
      "outputs": [],
      "source": [
        "def load_data(path):\n",
        "    \"\"\"\n",
        "    Función para cargar los datos\n",
        "    \"\"\"\n",
        "    data=pd.read_excel(path,index_col=0)\n",
        "    X = data.drop(columns='Defaulted Payment Next Month')\n",
        "    Y= data['Defaulted Payment Next Month']\n",
        "    return X, Y"
      ]
    },
    {
      "cell_type": "markdown",
      "metadata": {},
      "source": [
        "### Preprocesamiento de datos"
      ]
    },
    {
      "cell_type": "code",
      "execution_count": 57,
      "metadata": {},
      "outputs": [],
      "source": [
        "def preprocess_data(X_train, X_test):\n",
        "    \"\"\"\n",
        "    Preprocesamiento de los datos\n",
        "    \"\"\"\n",
        "\n",
        "    # Estandarizar los datos\n",
        "    # Dtos quedan con media 0 desviación 1\n",
        "    scaler = StandardScaler().fit(X_train)\n",
        "    X_train_standard = scaler.transform(X_train)\n",
        "    X_test_standard = scaler.transform(X_test)\n",
        "    \n",
        "    \n",
        "    return X_train_standard , X_test_standard"
      ]
    },
    {
      "cell_type": "markdown",
      "metadata": {},
      "source": [
        "### Arquitectura"
      ]
    },
    {
      "cell_type": "code",
      "execution_count": 58,
      "metadata": {},
      "outputs": [],
      "source": [
        "\n",
        "def get_model():\n",
        "    \"\"\"\n",
        "    Arquitectura de la red\n",
        "    \"\"\"\n",
        "    # Definir el modelo\n",
        "    model = Sequential()\n",
        "    model.add(Dense(32, input_shape=(83,), activation='relu')),\n",
        "    model.add(Dropout(0.2)),\n",
        "    model.add(Dense(16, activation='relu')),\n",
        "    model.add(Dropout(0.2)),\n",
        "    model.add(Dense(8, activation='relu')),\n",
        "    model.add(Dropout(0.2)),\n",
        "    model.add(Dense(4, activation='relu')),\n",
        "    model.add(Dropout(0.2)),\n",
        "    model.add(Dense(1, activation='sigmoid'))\n",
        "\n",
        "    # Compilar el modelo\n",
        "    model.compile(\n",
        "        optimizer=Adam(),\n",
        "        #Binary _cross.. porque son solo 2 clases\n",
        "        loss='binary_crossentropy',\n",
        "        metrics=['accuracy']\n",
        "    )\n",
        "\n",
        "    # Resumen del modelo\n",
        "    print(model.summary())\n",
        "\n",
        "    return model"
      ]
    },
    {
      "cell_type": "markdown",
      "metadata": {},
      "source": [
        "### Entrenamiento"
      ]
    },
    {
      "cell_type": "code",
      "execution_count": 59,
      "metadata": {},
      "outputs": [],
      "source": [
        "def train_neural_network(model, X_train, y_train):\n",
        "    \"\"\"\n",
        "    Entrenamiento del clasificador\n",
        "    \"\"\"\n",
        "\n",
        "    checkpoint = ModelCheckpoint(\"modelo.keras\", monitor='val_loss', verbose=1, save_best_only=True, mode='min')\n",
        "    early_stopping = EarlyStopping(monitor='val_loss', patience=5, verbose=1, restore_best_weights=True)    \n",
        "\n",
        "    # Entrenar el modelo\n",
        "    history = model.fit(\n",
        "        x=X_train,\n",
        "        y=y_train,\n",
        "        epochs=20,\n",
        "        validation_split=0.2,\n",
        "        callbacks=[checkpoint, early_stopping]\n",
        "    )\n",
        "\n",
        "\n",
        "    return history"
      ]
    },
    {
      "cell_type": "markdown",
      "metadata": {},
      "source": [
        "### Métricas"
      ]
    },
    {
      "cell_type": "code",
      "execution_count": 60,
      "metadata": {},
      "outputs": [],
      "source": [
        "def calculate_metrics(y_real, y_pred, labels):\n",
        "    \"\"\"\n",
        "    Cálculo de métricas de evaluación del modelo\n",
        "    \"\"\"\n",
        "    accuracy = accuracy_score(y_real, y_pred)\n",
        "    print(\"Accuracy del modelo:\", accuracy)\n",
        "\n",
        "    print(\"\\nInforme de clasificación:\")\n",
        "    print(classification_report(y_real, y_pred))\n",
        "\n",
        "    # Matriz de confusión\n",
        "    plt.figure()\n",
        "    cm = confusion_matrix(y_real, y_pred)\n",
        "    disp = ConfusionMatrixDisplay(confusion_matrix=cm, display_labels=labels)\n",
        "    disp.plot()"
      ]
    },
    {
      "cell_type": "markdown",
      "metadata": {},
      "source": [
        "### Visualización de resultados"
      ]
    },
    {
      "cell_type": "code",
      "execution_count": 61,
      "metadata": {},
      "outputs": [],
      "source": [
        "def visualize_training(history):\n",
        "    \"\"\"\n",
        "    Visualización del entrenamiento\n",
        "    \"\"\"\n",
        "    # Generar y mostrar las curvas de pérdida versus epoch\n",
        "    plt.figure()\n",
        "    plt.plot(history.history['loss'], label='train_loss')\n",
        "    plt.plot(history.history['val_loss'], label='val_loss')\n",
        "    plt.xlabel('Epoch')\n",
        "    plt.ylabel('Loss')\n",
        "    plt.legend()\n",
        "    plt.show()"
      ]
    },
    {
      "cell_type": "markdown",
      "metadata": {},
      "source": [
        "### Pipeline"
      ]
    },
    {
      "cell_type": "code",
      "execution_count": 62,
      "metadata": {},
      "outputs": [],
      "source": [
        "def pipeline():\n",
        "    \"\"\"\n",
        "    Pipeline para entrenar y evaluar el modelo\n",
        "    \"\"\"\n",
        "    # Cargar las imágenes\n",
        "    X, y = load_data('./datos_limpios.xlsx')\n",
        "\n",
        "    # Dividir los datos en conjunto de entrenamiento y prueba\n",
        "    X_train, X_test, y_train, y_test = train_test_split(X, y, test_size=0.2, random_state=42)\n",
        "\n",
        "    # Preprocesamiento de datos\n",
        "    X_train_processed, X_test_processed = preprocess_data(X_train, X_test)\n",
        "\n",
        "    # Entrenamiento del modelo\n",
        "    model = get_model()\n",
        "    history = train_neural_network(model, X_train_processed, y_train)\n",
        "\n",
        "    # Predicciones en el conjunto de prueba\n",
        "    y_pred = model.predict(X_test_processed)\n",
        "    y_pred = (y_pred > 0.5)\n",
        "\n",
        "    # Métricas de evaluación\n",
        "    calculate_metrics(y_test, y_pred, ['Not Defaulted', 'Defaulted'])\n",
        "\n",
        "    # Visualización de algunas predicciones\n",
        "    visualize_training(history)"
      ]
    },
    {
      "cell_type": "code",
      "execution_count": 63,
      "metadata": {},
      "outputs": [
        {
          "name": "stderr",
          "output_type": "stream",
          "text": [
            "WARNING:absl:At this time, the v2.11+ optimizer `tf.keras.optimizers.Adam` runs slowly on M1/M2 Macs, please use the legacy Keras optimizer instead, located at `tf.keras.optimizers.legacy.Adam`.\n"
          ]
        },
        {
          "name": "stdout",
          "output_type": "stream",
          "text": [
            "Model: \"sequential_5\"\n",
            "_________________________________________________________________\n",
            " Layer (type)                Output Shape              Param #   \n",
            "=================================================================\n",
            " dense_23 (Dense)            (None, 32)                2688      \n",
            "                                                                 \n",
            " dropout_18 (Dropout)        (None, 32)                0         \n",
            "                                                                 \n",
            " dense_24 (Dense)            (None, 16)                528       \n",
            "                                                                 \n",
            " dropout_19 (Dropout)        (None, 16)                0         \n",
            "                                                                 \n",
            " dense_25 (Dense)            (None, 8)                 136       \n",
            "                                                                 \n",
            " dropout_20 (Dropout)        (None, 8)                 0         \n",
            "                                                                 \n",
            " dense_26 (Dense)            (None, 4)                 36        \n",
            "                                                                 \n",
            " dropout_21 (Dropout)        (None, 4)                 0         \n",
            "                                                                 \n",
            " dense_27 (Dense)            (None, 1)                 5         \n",
            "                                                                 \n",
            "=================================================================\n",
            "Total params: 3393 (13.25 KB)\n",
            "Trainable params: 3393 (13.25 KB)\n",
            "Non-trainable params: 0 (0.00 Byte)\n",
            "_________________________________________________________________\n",
            "None\n",
            "Epoch 1/20\n",
            "414/463 [=========================>....] - ETA: 0s - loss: 0.5827 - accuracy: 0.7504\n",
            "Epoch 1: val_loss improved from inf to 0.45405, saving model to modelo.keras\n",
            "463/463 [==============================] - 1s 1ms/step - loss: 0.5745 - accuracy: 0.7551 - val_loss: 0.4541 - val_accuracy: 0.7975\n",
            "Epoch 2/20\n",
            "423/463 [==========================>...] - ETA: 0s - loss: 0.5047 - accuracy: 0.7948\n",
            "Epoch 2: val_loss improved from 0.45405 to 0.44078, saving model to modelo.keras\n",
            "463/463 [==============================] - 0s 901us/step - loss: 0.5029 - accuracy: 0.7947 - val_loss: 0.4408 - val_accuracy: 0.8116\n",
            "Epoch 3/20\n",
            "423/463 [==========================>...] - ETA: 0s - loss: 0.4847 - accuracy: 0.7986\n",
            "Epoch 3: val_loss improved from 0.44078 to 0.43173, saving model to modelo.keras\n",
            "463/463 [==============================] - 0s 900us/step - loss: 0.4841 - accuracy: 0.7985 - val_loss: 0.4317 - val_accuracy: 0.8248\n",
            "Epoch 4/20\n",
            "422/463 [==========================>...] - ETA: 0s - loss: 0.4804 - accuracy: 0.8012\n",
            "Epoch 4: val_loss did not improve from 0.43173\n",
            "463/463 [==============================] - 0s 866us/step - loss: 0.4798 - accuracy: 0.8010 - val_loss: 0.4330 - val_accuracy: 0.8248\n",
            "Epoch 5/20\n",
            "456/463 [============================>.] - ETA: 0s - loss: 0.4707 - accuracy: 0.8030\n",
            "Epoch 5: val_loss did not improve from 0.43173\n",
            "463/463 [==============================] - 0s 931us/step - loss: 0.4701 - accuracy: 0.8034 - val_loss: 0.4350 - val_accuracy: 0.8183\n",
            "Epoch 6/20\n",
            "450/463 [============================>.] - ETA: 0s - loss: 0.4647 - accuracy: 0.8057\n",
            "Epoch 6: val_loss did not improve from 0.43173\n",
            "463/463 [==============================] - 0s 934us/step - loss: 0.4649 - accuracy: 0.8055 - val_loss: 0.4317 - val_accuracy: 0.8259\n",
            "Epoch 7/20\n",
            "401/463 [========================>.....] - ETA: 0s - loss: 0.4606 - accuracy: 0.8051\n",
            "Epoch 7: val_loss improved from 0.43173 to 0.42506, saving model to modelo.keras\n",
            "463/463 [==============================] - 0s 942us/step - loss: 0.4598 - accuracy: 0.8049 - val_loss: 0.4251 - val_accuracy: 0.8286\n",
            "Epoch 8/20\n",
            "414/463 [=========================>....] - ETA: 0s - loss: 0.4576 - accuracy: 0.8037\n",
            "Epoch 8: val_loss did not improve from 0.42506\n",
            "463/463 [==============================] - 0s 886us/step - loss: 0.4570 - accuracy: 0.8039 - val_loss: 0.4253 - val_accuracy: 0.8288\n",
            "Epoch 9/20\n",
            "419/463 [==========================>...] - ETA: 0s - loss: 0.4518 - accuracy: 0.8091\n",
            "Epoch 9: val_loss improved from 0.42506 to 0.42219, saving model to modelo.keras\n",
            "463/463 [==============================] - 0s 910us/step - loss: 0.4522 - accuracy: 0.8091 - val_loss: 0.4222 - val_accuracy: 0.8288\n",
            "Epoch 10/20\n",
            "434/463 [===========================>..] - ETA: 0s - loss: 0.4519 - accuracy: 0.8080\n",
            "Epoch 10: val_loss did not improve from 0.42219\n",
            "463/463 [==============================] - 0s 1ms/step - loss: 0.4528 - accuracy: 0.8073 - val_loss: 0.4250 - val_accuracy: 0.8267\n",
            "Epoch 11/20\n",
            "421/463 [==========================>...] - ETA: 0s - loss: 0.4521 - accuracy: 0.8069\n",
            "Epoch 11: val_loss did not improve from 0.42219\n",
            "463/463 [==============================] - 0s 874us/step - loss: 0.4518 - accuracy: 0.8074 - val_loss: 0.4283 - val_accuracy: 0.8215\n",
            "Epoch 12/20\n",
            "422/463 [==========================>...] - ETA: 0s - loss: 0.4473 - accuracy: 0.8080\n",
            "Epoch 12: val_loss did not improve from 0.42219\n",
            "463/463 [==============================] - 0s 864us/step - loss: 0.4485 - accuracy: 0.8068 - val_loss: 0.4238 - val_accuracy: 0.8283\n",
            "Epoch 13/20\n",
            "421/463 [==========================>...] - ETA: 0s - loss: 0.4475 - accuracy: 0.8061\n",
            "Epoch 13: val_loss did not improve from 0.42219\n",
            "463/463 [==============================] - 0s 870us/step - loss: 0.4471 - accuracy: 0.8067 - val_loss: 0.4247 - val_accuracy: 0.8278\n",
            "Epoch 14/20\n",
            "408/463 [=========================>....] - ETA: 0s - loss: 0.4511 - accuracy: 0.8068\n",
            "Epoch 14: val_loss did not improve from 0.42219\n",
            "Restoring model weights from the end of the best epoch: 9.\n",
            "463/463 [==============================] - 0s 895us/step - loss: 0.4522 - accuracy: 0.8055 - val_loss: 0.4243 - val_accuracy: 0.8269\n",
            "Epoch 14: early stopping\n",
            "145/145 [==============================] - 0s 470us/step\n",
            "Accuracy del modelo: 0.8200863930885529\n",
            "\n",
            "Informe de clasificación:\n",
            "              precision    recall  f1-score   support\n",
            "\n",
            "           0       0.84      0.95      0.89      3590\n",
            "           1       0.68      0.38      0.49      1040\n",
            "\n",
            "    accuracy                           0.82      4630\n",
            "   macro avg       0.76      0.66      0.69      4630\n",
            "weighted avg       0.80      0.82      0.80      4630\n",
            "\n"
          ]
        },
        {
          "data": {
            "text/plain": [
              "<Figure size 640x480 with 0 Axes>"
            ]
          },
          "metadata": {},
          "output_type": "display_data"
        },
        {
          "data": {
            "image/png": "[encoded data removed]",
            "text/plain": [
              "<Figure size 640x480 with 2 Axes>"
            ]
          },
          "metadata": {},
          "output_type": "display_data"
        },
        {
          "data": {
            "image/png": "[encoded data removed]",
            "text/plain": [
              "<Figure size 640x480 with 1 Axes>"
            ]
          },
          "metadata": {},
          "output_type": "display_data"
        }
      ],
      "source": [
        "pipeline()"
      ]
    }
  ],
  "metadata": {
    "colab": {
      "include_colab_link": true,
      "provenance": []
    },
    "kernelspec": {
      "display_name": "Python 3",
      "name": "python3"
    },
    "language_info": {
      "codemirror_mode": {
        "name": "ipython",
        "version": 3
      },
      "file_extension": ".py",
      "mimetype": "text/x-python",
      "name": "python",
      "nbconvert_exporter": "python",
      "pygments_lexer": "ipython3",
      "version": "3.11.7"
    }
  },
  "nbformat": 4,
  "nbformat_minor": 0
}
